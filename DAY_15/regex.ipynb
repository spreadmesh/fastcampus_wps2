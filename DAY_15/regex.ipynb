{
 "cells": [
  {
   "cell_type": "code",
   "execution_count": 77,
   "metadata": {
    "collapsed": false
   },
   "outputs": [
    {
     "name": "stdout",
     "output_type": "stream",
     "text": [
      "['01012345678', '공일공둘둘둘영삼오일팔', '공일공22205736', '010-2220-5736', '010-둘둘둘삼-오칠삼육']\n",
      "['dobestan@naver.com', 'ipsum.dobestan@daum.net', 'dobestan@gmail.com', 'wonwon@mydaily.co.kr']\n"
     ]
    }
   ],
   "source": [
    "import re\n",
    "with open(\"../../crawled.txt\", \"r\") as f:\n",
    "    data = f.read()\n",
    "    \n",
    "    phonenumber_regex = \"[0-9빵공영일이둘삼사오육칠팔구]{3}[\\-\\.\\ ]?[0-9빵공영일이둘삼사오육칠팔구]{3,4}[\\-\\.\\ ]?[0-9빵공영일이둘삼사오육칠팔구]{3,4}\"\n",
    "    phonenumber_pattern = re.compile(phonenumber_regex)\n",
    "    phonenumber_list = phonenumber_pattern.findall(data)\n",
    "    \n",
    "#    email_regex = \"[\\w]+(\\.[\\w]+)*\\@[\\w]+(\\.[\\w]+)+\"\n",
    "    email_regex = \"[a-zA-Z0-9_.]+[@][a-zA-z0-9.]+\"\n",
    "    email_pattern = re.compile(email_regex)\n",
    "    email_list = email_pattern.findall(data)\n",
    "\n",
    "    \n",
    "print(phonenumber_list)\n",
    "print(email_list)\n"
   ]
  },
  {
   "cell_type": "code",
   "execution_count": 80,
   "metadata": {
    "collapsed": true
   },
   "outputs": [],
   "source": [
    "def preprocess(phonenumber):\n",
    "    preprocess_dict = {\n",
    "        \"빵\": 0,\n",
    "        \"공\": 0,\n",
    "        \"영\": 0,\n",
    "        \"일\": 1,\n",
    "        \"이\": 2,\n",
    "        \"둘\": 2,\n",
    "        \"삼\": 3,\n",
    "        \"사\": 4,\n",
    "        \"오\": 5,\n",
    "        \"육\": 6,\n",
    "        \"칠\": 7,\n",
    "        \"팔\": 8,\n",
    "        \"구\": 9,\n",
    "        \"-\": \"\",\n",
    "    }\n",
    "    for key, value in preprocess_dict.items():\n",
    "        phonenumber = phonenumber.replace(key, str(value))\n",
    "    return phonenumber\n",
    "        "
   ]
  },
  {
   "cell_type": "code",
   "execution_count": null,
   "metadata": {
    "collapsed": true
   },
   "outputs": [],
   "source": []
  },
  {
   "cell_type": "code",
   "execution_count": 81,
   "metadata": {
    "collapsed": false
   },
   "outputs": [
    {
     "data": {
      "text/plain": [
       "['01012345678', '01022203518', '01022205736', '01022205736', '01022235736']"
      ]
     },
     "execution_count": 81,
     "metadata": {},
     "output_type": "execute_result"
    }
   ],
   "source": [
    "[preprocess(phonenumber) for phonenumber in phonenumber_list ]"
   ]
  },
  {
   "cell_type": "code",
   "execution_count": null,
   "metadata": {
    "collapsed": true
   },
   "outputs": [],
   "source": []
  }
 ],
 "metadata": {
  "kernelspec": {
   "display_name": "Python 3",
   "language": "python",
   "name": "python3"
  },
  "language_info": {
   "codemirror_mode": {
    "name": "ipython",
    "version": 3
   },
   "file_extension": ".py",
   "mimetype": "text/x-python",
   "name": "python",
   "nbconvert_exporter": "python",
   "pygments_lexer": "ipython3",
   "version": "3.5.1"
  }
 },
 "nbformat": 4,
 "nbformat_minor": 0
}

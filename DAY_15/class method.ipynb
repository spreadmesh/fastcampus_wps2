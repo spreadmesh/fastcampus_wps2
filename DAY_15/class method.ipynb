{
 "cells": [
  {
   "cell_type": "code",
   "execution_count": 1,
   "metadata": {
    "collapsed": true
   },
   "outputs": [],
   "source": [
    "# Class - 클래스는 매우 중요합니다.\n",
    "# Class => object ( 객체가 생성되는 클래스 )"
   ]
  },
  {
   "cell_type": "code",
   "execution_count": 2,
   "metadata": {
    "collapsed": false
   },
   "outputs": [],
   "source": [
    "class Fibonacci():\n",
    "    \n",
    "    cache = {1: 0, 2: 1}\n",
    "    \n",
    "    # 클래스 => 클래스 메쏘드\n",
    "    # 객체 ( 인스턴스 ) => 인스턴스 메쏘드\n",
    "    \n",
    "    @staticmethod # 클래스 메쏘드\n",
    "    def calc(n): # self 가 없습니다.\n",
    "       \n",
    "        if n in Fibonacci.cache:\n",
    "            return Fibonacci.cache[n]\n",
    "    \n",
    "        if n <= 0:\n",
    "            return 0\n",
    "        \n",
    "#         if n == 1:\n",
    "#             Fibonacci.cache[n] = 0\n",
    "#             return Fibonacci.cache[n]\n",
    "        \n",
    "#         if n == 2:\n",
    "#             Fibonacci.cache[n] = 1\n",
    "#             return Fibonacci.cache[n]\n",
    "        \n",
    "        Fibonacci.cache[n] = Fibonacci.calc(n-1) + Fibonacci.calc(n-2)\n",
    "        return Fibonacci.cache[n]"
   ]
  },
  {
   "cell_type": "code",
   "execution_count": 3,
   "metadata": {
    "collapsed": false
   },
   "outputs": [
    {
     "data": {
      "text/plain": [
       "{1: 0, 2: 1}"
      ]
     },
     "execution_count": 3,
     "metadata": {},
     "output_type": "execute_result"
    }
   ],
   "source": [
    "Fibonacci.cache"
   ]
  },
  {
   "cell_type": "code",
   "execution_count": 4,
   "metadata": {
    "collapsed": false
   },
   "outputs": [
    {
     "data": {
      "text/plain": [
       "4181"
      ]
     },
     "execution_count": 4,
     "metadata": {},
     "output_type": "execute_result"
    }
   ],
   "source": [
    "Fibonacci.calc(20)"
   ]
  },
  {
   "cell_type": "code",
   "execution_count": null,
   "metadata": {
    "collapsed": true
   },
   "outputs": [],
   "source": []
  },
  {
   "cell_type": "code",
   "execution_count": 5,
   "metadata": {
    "collapsed": false
   },
   "outputs": [],
   "source": [
    "class Factorial():\n",
    "\n",
    "    cache = {1: 1}\n",
    "        \n",
    "    @staticmethod\n",
    "    def run(n):\n",
    "        if n in Factorial.cache:\n",
    "            return Factorial.cache[n]\n",
    "        \n",
    "#         if n == 1:\n",
    "#             result = Factorial.cache[n] = 1\n",
    "#             return result\n",
    "        \n",
    "        Factorial.cache[n] = n * Factorial.run(n-1)\n",
    "        return Factorial.cache[n]\n",
    "        \n",
    "    @staticmethod\n",
    "    def prettify():\n",
    "        print(\"\\n\".join([\n",
    "                    \"{n}! == {result}\".format(n=key, result=value)\n",
    "                    for key, value\n",
    "                    in Factorial.cache.items()\n",
    "                ]))"
   ]
  },
  {
   "cell_type": "code",
   "execution_count": null,
   "metadata": {
    "collapsed": true
   },
   "outputs": [],
   "source": []
  },
  {
   "cell_type": "code",
   "execution_count": 6,
   "metadata": {
    "collapsed": false
   },
   "outputs": [
    {
     "data": {
      "text/plain": [
       "5040"
      ]
     },
     "execution_count": 6,
     "metadata": {},
     "output_type": "execute_result"
    }
   ],
   "source": [
    "Factorial.run(7)"
   ]
  },
  {
   "cell_type": "code",
   "execution_count": 7,
   "metadata": {
    "collapsed": false
   },
   "outputs": [
    {
     "data": {
      "text/plain": [
       "{1: 1, 2: 2, 3: 6, 4: 24, 5: 120, 6: 720, 7: 5040}"
      ]
     },
     "execution_count": 7,
     "metadata": {},
     "output_type": "execute_result"
    }
   ],
   "source": [
    "Factorial.cache"
   ]
  },
  {
   "cell_type": "code",
   "execution_count": 8,
   "metadata": {
    "collapsed": false
   },
   "outputs": [
    {
     "name": "stdout",
     "output_type": "stream",
     "text": [
      "1! == 1\n",
      "2! == 2\n",
      "3! == 6\n",
      "4! == 24\n",
      "5! == 120\n",
      "6! == 720\n",
      "7! == 5040\n"
     ]
    }
   ],
   "source": [
    "Factorial.prettify()"
   ]
  },
  {
   "cell_type": "code",
   "execution_count": null,
   "metadata": {
    "collapsed": true
   },
   "outputs": [],
   "source": []
  },
  {
   "cell_type": "code",
   "execution_count": 9,
   "metadata": {
    "collapsed": true
   },
   "outputs": [],
   "source": [
    "# 사실 인스턴스 메쏘드가 더 잘 어울릴 거 같지만... 클래스 메쏘드로도 괜찮다\n",
    "class FastCampus():\n",
    "    \n",
    "    school_list = []\n",
    "    manager_list = []\n",
    "    \n",
    "    @staticmethod\n",
    "    def get_revenue():\n",
    "        pass"
   ]
  },
  {
   "cell_type": "code",
   "execution_count": 53,
   "metadata": {
    "collapsed": false
   },
   "outputs": [],
   "source": [
    "import functools\n",
    "\n",
    "class Calendar():\n",
    "    \n",
    "    __days = {\n",
    "        1: 31,\n",
    "        2: 28,\n",
    "        3: 31,\n",
    "        4: 30,\n",
    "        5: 31,\n",
    "        6: 30,\n",
    "        7: 31,\n",
    "        8: 31,\n",
    "        9: 30,\n",
    "        10: 31,\n",
    "        11: 30,\n",
    "        12: 31,\n",
    "    }\n",
    "    \n",
    "#    @staticmethod\n",
    "#     def total_days_in(year):\n",
    "#         return sum([\n",
    "#                 days\n",
    "#                 for days\n",
    "#                 in Calendar.days_in(year).values()\n",
    "#             ])\n",
    "    @staticmethod\n",
    "    def total_days_in(year):\n",
    "        return functools.reduce(\n",
    "            lambda x,y: x+y,\n",
    "            Calendar.days_in(year).values()\n",
    "        )\n",
    "    \n",
    "    @staticmethod\n",
    "    def is_leap(year):\n",
    "        # 윤년이면 True\n",
    "        # 아니면 False\n",
    "        return\\\n",
    "            year % 4 == 0 and\\\n",
    "            not year % 100 == 0 or\\\n",
    "            year % 400 == 0\n",
    "        \n",
    "    @staticmethod\n",
    "    def days_in(year):\n",
    "        days = Calendar.__days.copy()\n",
    "        days[2] += int(Calendar.is_leap(year))\n",
    "        return days\n",
    "    \n",
    "    @staticmethod\n",
    "#     def total_days_until(year):\n",
    "#         return functools.reduce(\n",
    "#             lambda x,y: x+y,\n",
    "#             [\n",
    "#                 Calendar.total_days_in(i)\n",
    "#                 for i\n",
    "#                 in range(1900, year)\n",
    "#             ]\n",
    "#         )\n",
    "    def total_days_until(year):\n",
    "         return sum([\n",
    "                 Calendar.total_days_in(i)\n",
    "                 for i\n",
    "                 in range(1900, year)\n",
    "             ]\n",
    "         )"
   ]
  },
  {
   "cell_type": "code",
   "execution_count": 40,
   "metadata": {
    "collapsed": false
   },
   "outputs": [
    {
     "data": {
      "text/plain": [
       "True"
      ]
     },
     "execution_count": 40,
     "metadata": {},
     "output_type": "execute_result"
    }
   ],
   "source": [
    "Calendar.is_leap(400)"
   ]
  },
  {
   "cell_type": "code",
   "execution_count": 41,
   "metadata": {
    "collapsed": false
   },
   "outputs": [
    {
     "data": {
      "text/plain": [
       "{1: 31,\n",
       " 2: 28,\n",
       " 3: 31,\n",
       " 4: 30,\n",
       " 5: 31,\n",
       " 6: 30,\n",
       " 7: 31,\n",
       " 8: 31,\n",
       " 9: 30,\n",
       " 10: 31,\n",
       " 11: 30,\n",
       " 12: 31}"
      ]
     },
     "execution_count": 41,
     "metadata": {},
     "output_type": "execute_result"
    }
   ],
   "source": [
    "Calendar.days_in(2015)"
   ]
  },
  {
   "cell_type": "code",
   "execution_count": 42,
   "metadata": {
    "collapsed": false
   },
   "outputs": [
    {
     "data": {
      "text/plain": [
       "365"
      ]
     },
     "execution_count": 42,
     "metadata": {},
     "output_type": "execute_result"
    }
   ],
   "source": [
    "Calendar.total_days_in(2015)"
   ]
  },
  {
   "cell_type": "code",
   "execution_count": 54,
   "metadata": {
    "collapsed": false
   },
   "outputs": [
    {
     "data": {
      "text/plain": [
       "1095"
      ]
     },
     "execution_count": 54,
     "metadata": {},
     "output_type": "execute_result"
    }
   ],
   "source": [
    "Calendar.total_days_until(1903)"
   ]
  },
  {
   "cell_type": "code",
   "execution_count": null,
   "metadata": {
    "collapsed": true
   },
   "outputs": [],
   "source": []
  }
 ],
 "metadata": {
  "kernelspec": {
   "display_name": "Python 3",
   "language": "python",
   "name": "python3"
  },
  "language_info": {
   "codemirror_mode": {
    "name": "ipython",
    "version": 3
   },
   "file_extension": ".py",
   "mimetype": "text/x-python",
   "name": "python",
   "nbconvert_exporter": "python",
   "pygments_lexer": "ipython3",
   "version": "3.5.1"
  }
 },
 "nbformat": 4,
 "nbformat_minor": 0
}

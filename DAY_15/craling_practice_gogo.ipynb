{
 "cells": [
  {
   "cell_type": "code",
   "execution_count": 1,
   "metadata": {
    "collapsed": true
   },
   "outputs": [],
   "source": [
    "import requests"
   ]
  },
  {
   "cell_type": "code",
   "execution_count": 6,
   "metadata": {
    "collapsed": false
   },
   "outputs": [],
   "source": [
    "# from bs4 import BeautifulSoup\n",
    "import json"
   ]
  },
  {
   "cell_type": "code",
   "execution_count": 8,
   "metadata": {
    "collapsed": false
   },
   "outputs": [
    {
     "ename": "SyntaxError",
     "evalue": "invalid syntax (<ipython-input-8-560b0f86d2ac>, line 1)",
     "output_type": "error",
     "traceback": [
      "\u001b[1;36m  File \u001b[1;32m\"<ipython-input-8-560b0f86d2ac>\"\u001b[1;36m, line \u001b[1;32m1\u001b[0m\n\u001b[1;33m    BASE_URL = \"https://api.zigbang.com/v1/items?detail=true&\"item_ids=4456365&item_ids=4360452&item_id\u001b[0m\n\u001b[1;37m                                                                     ^\u001b[0m\n\u001b[1;31mSyntaxError\u001b[0m\u001b[1;31m:\u001b[0m invalid syntax\n"
     ]
    }
   ],
   "source": [
    "BASE_URL = \"https://api.zigbang.com/v1/items?detail=true&\"item_ids=4456365&item_ids=4360452&item_id\n",
    "item_ids=4456365&item_ids=4360452&"
   ]
  },
  {
   "cell_type": "code",
   "execution_count": null,
   "metadata": {
    "collapsed": true
   },
   "outputs": [],
   "source": []
  },
  {
   "cell_type": "code",
   "execution_count": 12,
   "metadata": {
    "collapsed": false
   },
   "outputs": [
    {
     "name": "stdout",
     "output_type": "stream",
     "text": [
      "https://api.zigbang.com/v1/items?detail=true&item_ids=100001&item_ids=100002&item_ids=100003&item_ids=100004&item_ids=100005&item_ids=100006&item_ids=100007&item_ids=100008&item_ids=100009&item_ids=100010&item_ids=100011&item_ids=100012&item_ids=100013&item_ids=100014&item_ids=100015&item_ids=100016&item_ids=100017&item_ids=100018&item_ids=100019&item_ids=100020&item_ids=100021&item_ids=100022&item_ids=100023&item_ids=100024&item_ids=100025&item_ids=100026&item_ids=100027&item_ids=100028&item_ids=100029&item_ids=100030&item_ids=100031&item_ids=100032&item_ids=100033&item_ids=100034&item_ids=100035&item_ids=100036&item_ids=100037&item_ids=100038&item_ids=100039&item_ids=100040&item_ids=100041&item_ids=100042&item_ids=100043&item_ids=100044&item_ids=100045&item_ids=100046&item_ids=100047&item_ids=100048&item_ids=100049&item_ids=100050&item_ids=100051&item_ids=100052&item_ids=100053&item_ids=100054&item_ids=100055&item_ids=100056&item_ids=100057&item_ids=100058&item_ids=100059&item_ids=100060&item_ids=100061&item_ids=100062&item_ids=100063&item_ids=100064&item_ids=100065&item_ids=100066&item_ids=100067&item_ids=100068&item_ids=100069&item_ids=100070&item_ids=100071&item_ids=100072&item_ids=100073&item_ids=100074&item_ids=100075&item_ids=100076&item_ids=100077&item_ids=100078&item_ids=100079&item_ids=100080&item_ids=100081&item_ids=100082&item_ids=100083&item_ids=100084&item_ids=100085&item_ids=100086&item_ids=100087&item_ids=100088&item_ids=100089&item_ids=100090&item_ids=100091&item_ids=100092&item_ids=100093&item_ids=100094&item_ids=100095&item_ids=100096&item_ids=100097&item_ids=100098&item_ids=100099&item_ids=100100\n",
      "https://api.zigbang.com/v1/items?detail=true&item_ids=100101&item_ids=100102&item_ids=100103&item_ids=100104&item_ids=100105&item_ids=100106&item_ids=100107&item_ids=100108&item_ids=100109&item_ids=100110&item_ids=100111&item_ids=100112&item_ids=100113&item_ids=100114&item_ids=100115&item_ids=100116&item_ids=100117&item_ids=100118&item_ids=100119&item_ids=100120&item_ids=100121&item_ids=100122&item_ids=100123&item_ids=100124&item_ids=100125&item_ids=100126&item_ids=100127&item_ids=100128&item_ids=100129&item_ids=100130&item_ids=100131&item_ids=100132&item_ids=100133&item_ids=100134&item_ids=100135&item_ids=100136&item_ids=100137&item_ids=100138&item_ids=100139&item_ids=100140&item_ids=100141&item_ids=100142&item_ids=100143&item_ids=100144&item_ids=100145&item_ids=100146&item_ids=100147&item_ids=100148&item_ids=100149&item_ids=100150&item_ids=100151&item_ids=100152&item_ids=100153&item_ids=100154&item_ids=100155&item_ids=100156&item_ids=100157&item_ids=100158&item_ids=100159&item_ids=100160&item_ids=100161&item_ids=100162&item_ids=100163&item_ids=100164&item_ids=100165&item_ids=100166&item_ids=100167&item_ids=100168&item_ids=100169&item_ids=100170&item_ids=100171&item_ids=100172&item_ids=100173&item_ids=100174&item_ids=100175&item_ids=100176&item_ids=100177&item_ids=100178&item_ids=100179&item_ids=100180&item_ids=100181&item_ids=100182&item_ids=100183&item_ids=100184&item_ids=100185&item_ids=100186&item_ids=100187&item_ids=100188&item_ids=100189&item_ids=100190&item_ids=100191&item_ids=100192&item_ids=100193&item_ids=100194&item_ids=100195&item_ids=100196&item_ids=100197&item_ids=100198&item_ids=100199&item_ids=100200\n",
      "https://api.zigbang.com/v1/items?detail=true&item_ids=100201&item_ids=100202&item_ids=100203&item_ids=100204&item_ids=100205&item_ids=100206&item_ids=100207&item_ids=100208&item_ids=100209&item_ids=100210&item_ids=100211&item_ids=100212&item_ids=100213&item_ids=100214&item_ids=100215&item_ids=100216&item_ids=100217&item_ids=100218&item_ids=100219&item_ids=100220&item_ids=100221&item_ids=100222&item_ids=100223&item_ids=100224&item_ids=100225&item_ids=100226&item_ids=100227&item_ids=100228&item_ids=100229&item_ids=100230&item_ids=100231&item_ids=100232&item_ids=100233&item_ids=100234&item_ids=100235&item_ids=100236&item_ids=100237&item_ids=100238&item_ids=100239&item_ids=100240&item_ids=100241&item_ids=100242&item_ids=100243&item_ids=100244&item_ids=100245&item_ids=100246&item_ids=100247&item_ids=100248&item_ids=100249&item_ids=100250&item_ids=100251&item_ids=100252&item_ids=100253&item_ids=100254&item_ids=100255&item_ids=100256&item_ids=100257&item_ids=100258&item_ids=100259&item_ids=100260&item_ids=100261&item_ids=100262&item_ids=100263&item_ids=100264&item_ids=100265&item_ids=100266&item_ids=100267&item_ids=100268&item_ids=100269&item_ids=100270&item_ids=100271&item_ids=100272&item_ids=100273&item_ids=100274&item_ids=100275&item_ids=100276&item_ids=100277&item_ids=100278&item_ids=100279&item_ids=100280&item_ids=100281&item_ids=100282&item_ids=100283&item_ids=100284&item_ids=100285&item_ids=100286&item_ids=100287&item_ids=100288&item_ids=100289&item_ids=100290&item_ids=100291&item_ids=100292&item_ids=100293&item_ids=100294&item_ids=100295&item_ids=100296&item_ids=100297&item_ids=100298&item_ids=100299&item_ids=100300\n",
      "https://api.zigbang.com/v1/items?detail=true&item_ids=100301&item_ids=100302&item_ids=100303&item_ids=100304&item_ids=100305&item_ids=100306&item_ids=100307&item_ids=100308&item_ids=100309&item_ids=100310&item_ids=100311&item_ids=100312&item_ids=100313&item_ids=100314&item_ids=100315&item_ids=100316&item_ids=100317&item_ids=100318&item_ids=100319&item_ids=100320&item_ids=100321&item_ids=100322&item_ids=100323&item_ids=100324&item_ids=100325&item_ids=100326&item_ids=100327&item_ids=100328&item_ids=100329&item_ids=100330&item_ids=100331&item_ids=100332&item_ids=100333&item_ids=100334&item_ids=100335&item_ids=100336&item_ids=100337&item_ids=100338&item_ids=100339&item_ids=100340&item_ids=100341&item_ids=100342&item_ids=100343&item_ids=100344&item_ids=100345&item_ids=100346&item_ids=100347&item_ids=100348&item_ids=100349&item_ids=100350&item_ids=100351&item_ids=100352&item_ids=100353&item_ids=100354&item_ids=100355&item_ids=100356&item_ids=100357&item_ids=100358&item_ids=100359&item_ids=100360&item_ids=100361&item_ids=100362&item_ids=100363&item_ids=100364&item_ids=100365&item_ids=100366&item_ids=100367&item_ids=100368&item_ids=100369&item_ids=100370&item_ids=100371&item_ids=100372&item_ids=100373&item_ids=100374&item_ids=100375&item_ids=100376&item_ids=100377&item_ids=100378&item_ids=100379&item_ids=100380&item_ids=100381&item_ids=100382&item_ids=100383&item_ids=100384&item_ids=100385&item_ids=100386&item_ids=100387&item_ids=100388&item_ids=100389&item_ids=100390&item_ids=100391&item_ids=100392&item_ids=100393&item_ids=100394&item_ids=100395&item_ids=100396&item_ids=100397&item_ids=100398&item_ids=100399&item_ids=100400\n",
      "https://api.zigbang.com/v1/items?detail=true&item_ids=100401&item_ids=100402&item_ids=100403&item_ids=100404&item_ids=100405&item_ids=100406&item_ids=100407&item_ids=100408&item_ids=100409&item_ids=100410&item_ids=100411&item_ids=100412&item_ids=100413&item_ids=100414&item_ids=100415&item_ids=100416&item_ids=100417&item_ids=100418&item_ids=100419&item_ids=100420&item_ids=100421&item_ids=100422&item_ids=100423&item_ids=100424&item_ids=100425&item_ids=100426&item_ids=100427&item_ids=100428&item_ids=100429&item_ids=100430&item_ids=100431&item_ids=100432&item_ids=100433&item_ids=100434&item_ids=100435&item_ids=100436&item_ids=100437&item_ids=100438&item_ids=100439&item_ids=100440&item_ids=100441&item_ids=100442&item_ids=100443&item_ids=100444&item_ids=100445&item_ids=100446&item_ids=100447&item_ids=100448&item_ids=100449&item_ids=100450&item_ids=100451&item_ids=100452&item_ids=100453&item_ids=100454&item_ids=100455&item_ids=100456&item_ids=100457&item_ids=100458&item_ids=100459&item_ids=100460&item_ids=100461&item_ids=100462&item_ids=100463&item_ids=100464&item_ids=100465&item_ids=100466&item_ids=100467&item_ids=100468&item_ids=100469&item_ids=100470&item_ids=100471&item_ids=100472&item_ids=100473&item_ids=100474&item_ids=100475&item_ids=100476&item_ids=100477&item_ids=100478&item_ids=100479&item_ids=100480&item_ids=100481&item_ids=100482&item_ids=100483&item_ids=100484&item_ids=100485&item_ids=100486&item_ids=100487&item_ids=100488&item_ids=100489&item_ids=100490&item_ids=100491&item_ids=100492&item_ids=100493&item_ids=100494&item_ids=100495&item_ids=100496&item_ids=100497&item_ids=100498&item_ids=100499&item_ids=100500\n",
      "https://api.zigbang.com/v1/items?detail=true&item_ids=100501&item_ids=100502&item_ids=100503&item_ids=100504&item_ids=100505&item_ids=100506&item_ids=100507&item_ids=100508&item_ids=100509&item_ids=100510&item_ids=100511&item_ids=100512&item_ids=100513&item_ids=100514&item_ids=100515&item_ids=100516&item_ids=100517&item_ids=100518&item_ids=100519&item_ids=100520&item_ids=100521&item_ids=100522&item_ids=100523&item_ids=100524&item_ids=100525&item_ids=100526&item_ids=100527&item_ids=100528&item_ids=100529&item_ids=100530&item_ids=100531&item_ids=100532&item_ids=100533&item_ids=100534&item_ids=100535&item_ids=100536&item_ids=100537&item_ids=100538&item_ids=100539&item_ids=100540&item_ids=100541&item_ids=100542&item_ids=100543&item_ids=100544&item_ids=100545&item_ids=100546&item_ids=100547&item_ids=100548&item_ids=100549&item_ids=100550&item_ids=100551&item_ids=100552&item_ids=100553&item_ids=100554&item_ids=100555&item_ids=100556&item_ids=100557&item_ids=100558&item_ids=100559&item_ids=100560&item_ids=100561&item_ids=100562&item_ids=100563&item_ids=100564&item_ids=100565&item_ids=100566&item_ids=100567&item_ids=100568&item_ids=100569&item_ids=100570&item_ids=100571&item_ids=100572&item_ids=100573&item_ids=100574&item_ids=100575&item_ids=100576&item_ids=100577&item_ids=100578&item_ids=100579&item_ids=100580&item_ids=100581&item_ids=100582&item_ids=100583&item_ids=100584&item_ids=100585&item_ids=100586&item_ids=100587&item_ids=100588&item_ids=100589&item_ids=100590&item_ids=100591&item_ids=100592&item_ids=100593&item_ids=100594&item_ids=100595&item_ids=100596&item_ids=100597&item_ids=100598&item_ids=100599&item_ids=100600\n",
      "https://api.zigbang.com/v1/items?detail=true&item_ids=100601&item_ids=100602&item_ids=100603&item_ids=100604&item_ids=100605&item_ids=100606&item_ids=100607&item_ids=100608&item_ids=100609&item_ids=100610&item_ids=100611&item_ids=100612&item_ids=100613&item_ids=100614&item_ids=100615&item_ids=100616&item_ids=100617&item_ids=100618&item_ids=100619&item_ids=100620&item_ids=100621&item_ids=100622&item_ids=100623&item_ids=100624&item_ids=100625&item_ids=100626&item_ids=100627&item_ids=100628&item_ids=100629&item_ids=100630&item_ids=100631&item_ids=100632&item_ids=100633&item_ids=100634&item_ids=100635&item_ids=100636&item_ids=100637&item_ids=100638&item_ids=100639&item_ids=100640&item_ids=100641&item_ids=100642&item_ids=100643&item_ids=100644&item_ids=100645&item_ids=100646&item_ids=100647&item_ids=100648&item_ids=100649&item_ids=100650&item_ids=100651&item_ids=100652&item_ids=100653&item_ids=100654&item_ids=100655&item_ids=100656&item_ids=100657&item_ids=100658&item_ids=100659&item_ids=100660&item_ids=100661&item_ids=100662&item_ids=100663&item_ids=100664&item_ids=100665&item_ids=100666&item_ids=100667&item_ids=100668&item_ids=100669&item_ids=100670&item_ids=100671&item_ids=100672&item_ids=100673&item_ids=100674&item_ids=100675&item_ids=100676&item_ids=100677&item_ids=100678&item_ids=100679&item_ids=100680&item_ids=100681&item_ids=100682&item_ids=100683&item_ids=100684&item_ids=100685&item_ids=100686&item_ids=100687&item_ids=100688&item_ids=100689&item_ids=100690&item_ids=100691&item_ids=100692&item_ids=100693&item_ids=100694&item_ids=100695&item_ids=100696&item_ids=100697&item_ids=100698&item_ids=100699&item_ids=100700\n",
      "https://api.zigbang.com/v1/items?detail=true&item_ids=100701&item_ids=100702&item_ids=100703&item_ids=100704&item_ids=100705&item_ids=100706&item_ids=100707&item_ids=100708&item_ids=100709&item_ids=100710&item_ids=100711&item_ids=100712&item_ids=100713&item_ids=100714&item_ids=100715&item_ids=100716&item_ids=100717&item_ids=100718&item_ids=100719&item_ids=100720&item_ids=100721&item_ids=100722&item_ids=100723&item_ids=100724&item_ids=100725&item_ids=100726&item_ids=100727&item_ids=100728&item_ids=100729&item_ids=100730&item_ids=100731&item_ids=100732&item_ids=100733&item_ids=100734&item_ids=100735&item_ids=100736&item_ids=100737&item_ids=100738&item_ids=100739&item_ids=100740&item_ids=100741&item_ids=100742&item_ids=100743&item_ids=100744&item_ids=100745&item_ids=100746&item_ids=100747&item_ids=100748&item_ids=100749&item_ids=100750&item_ids=100751&item_ids=100752&item_ids=100753&item_ids=100754&item_ids=100755&item_ids=100756&item_ids=100757&item_ids=100758&item_ids=100759&item_ids=100760&item_ids=100761&item_ids=100762&item_ids=100763&item_ids=100764&item_ids=100765&item_ids=100766&item_ids=100767&item_ids=100768&item_ids=100769&item_ids=100770&item_ids=100771&item_ids=100772&item_ids=100773&item_ids=100774&item_ids=100775&item_ids=100776&item_ids=100777&item_ids=100778&item_ids=100779&item_ids=100780&item_ids=100781&item_ids=100782&item_ids=100783&item_ids=100784&item_ids=100785&item_ids=100786&item_ids=100787&item_ids=100788&item_ids=100789&item_ids=100790&item_ids=100791&item_ids=100792&item_ids=100793&item_ids=100794&item_ids=100795&item_ids=100796&item_ids=100797&item_ids=100798&item_ids=100799&item_ids=100800\n",
      "https://api.zigbang.com/v1/items?detail=true&item_ids=100801&item_ids=100802&item_ids=100803&item_ids=100804&item_ids=100805&item_ids=100806&item_ids=100807&item_ids=100808&item_ids=100809&item_ids=100810&item_ids=100811&item_ids=100812&item_ids=100813&item_ids=100814&item_ids=100815&item_ids=100816&item_ids=100817&item_ids=100818&item_ids=100819&item_ids=100820&item_ids=100821&item_ids=100822&item_ids=100823&item_ids=100824&item_ids=100825&item_ids=100826&item_ids=100827&item_ids=100828&item_ids=100829&item_ids=100830&item_ids=100831&item_ids=100832&item_ids=100833&item_ids=100834&item_ids=100835&item_ids=100836&item_ids=100837&item_ids=100838&item_ids=100839&item_ids=100840&item_ids=100841&item_ids=100842&item_ids=100843&item_ids=100844&item_ids=100845&item_ids=100846&item_ids=100847&item_ids=100848&item_ids=100849&item_ids=100850&item_ids=100851&item_ids=100852&item_ids=100853&item_ids=100854&item_ids=100855&item_ids=100856&item_ids=100857&item_ids=100858&item_ids=100859&item_ids=100860&item_ids=100861&item_ids=100862&item_ids=100863&item_ids=100864&item_ids=100865&item_ids=100866&item_ids=100867&item_ids=100868&item_ids=100869&item_ids=100870&item_ids=100871&item_ids=100872&item_ids=100873&item_ids=100874&item_ids=100875&item_ids=100876&item_ids=100877&item_ids=100878&item_ids=100879&item_ids=100880&item_ids=100881&item_ids=100882&item_ids=100883&item_ids=100884&item_ids=100885&item_ids=100886&item_ids=100887&item_ids=100888&item_ids=100889&item_ids=100890&item_ids=100891&item_ids=100892&item_ids=100893&item_ids=100894&item_ids=100895&item_ids=100896&item_ids=100897&item_ids=100898&item_ids=100899&item_ids=100900\n",
      "https://api.zigbang.com/v1/items?detail=true&item_ids=100901&item_ids=100902&item_ids=100903&item_ids=100904&item_ids=100905&item_ids=100906&item_ids=100907&item_ids=100908&item_ids=100909&item_ids=100910&item_ids=100911&item_ids=100912&item_ids=100913&item_ids=100914&item_ids=100915&item_ids=100916&item_ids=100917&item_ids=100918&item_ids=100919&item_ids=100920&item_ids=100921&item_ids=100922&item_ids=100923&item_ids=100924&item_ids=100925&item_ids=100926&item_ids=100927&item_ids=100928&item_ids=100929&item_ids=100930&item_ids=100931&item_ids=100932&item_ids=100933&item_ids=100934&item_ids=100935&item_ids=100936&item_ids=100937&item_ids=100938&item_ids=100939&item_ids=100940&item_ids=100941&item_ids=100942&item_ids=100943&item_ids=100944&item_ids=100945&item_ids=100946&item_ids=100947&item_ids=100948&item_ids=100949&item_ids=100950&item_ids=100951&item_ids=100952&item_ids=100953&item_ids=100954&item_ids=100955&item_ids=100956&item_ids=100957&item_ids=100958&item_ids=100959&item_ids=100960&item_ids=100961&item_ids=100962&item_ids=100963&item_ids=100964&item_ids=100965&item_ids=100966&item_ids=100967&item_ids=100968&item_ids=100969&item_ids=100970&item_ids=100971&item_ids=100972&item_ids=100973&item_ids=100974&item_ids=100975&item_ids=100976&item_ids=100977&item_ids=100978&item_ids=100979&item_ids=100980&item_ids=100981&item_ids=100982&item_ids=100983&item_ids=100984&item_ids=100985&item_ids=100986&item_ids=100987&item_ids=100988&item_ids=100989&item_ids=100990&item_ids=100991&item_ids=100992&item_ids=100993&item_ids=100994&item_ids=100995&item_ids=100996&item_ids=100997&item_ids=100998&item_ids=100999&item_ids=101000\n"
     ]
    }
   ],
   "source": [
    "for i in range(10):\n",
    "    start_room_id = 100000 + (i * 100) + 1\n",
    "    end_room_id = 100000 + ((i + 1) * 100)\n",
    "    \n",
    "    BASE_URL = \"https://api.zigbang.com/v1/items?detail=true\"\n",
    "#     result_url = BASE_URL + \"\".join([\n",
    "#             \"&item_ids=\" + str(room_id)\n",
    "#             for room_id\n",
    "#             in range(start_room_id, end_room_id + 1)\n",
    "#     ])\n",
    "    result_url = BASE_URL+ \"&item_ids=\" + \"&item_ids=\".join([\n",
    "            str(room_id)\n",
    "            for room_id\n",
    "            in range(start_room_id, end_room_id + 1)\n",
    "    ])\n",
    "    print(result_url)\n",
    "#    print( start_room_id, end_room_id )\n",
    "                                                                          \n",
    "                                                                    "
   ]
  },
  {
   "cell_type": "code",
   "execution_count": null,
   "metadata": {
    "collapsed": true
   },
   "outputs": [],
   "source": []
  }
 ],
 "metadata": {
  "kernelspec": {
   "display_name": "Python 3",
   "language": "python",
   "name": "python3"
  },
  "language_info": {
   "codemirror_mode": {
    "name": "ipython",
    "version": 3
   },
   "file_extension": ".py",
   "mimetype": "text/x-python",
   "name": "python",
   "nbconvert_exporter": "python",
   "pygments_lexer": "ipython3",
   "version": "3.5.1"
  }
 },
 "nbformat": 4,
 "nbformat_minor": 0
}
